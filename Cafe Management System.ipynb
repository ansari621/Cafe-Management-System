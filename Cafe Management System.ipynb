{
 "cells": [
  {
   "cell_type": "code",
   "execution_count": 85,
   "id": "b23a832e-b6f2-4a5b-912c-0940064d84e0",
   "metadata": {},
   "outputs": [],
   "source": [
    "menu = {'pizza': 150,\n",
    "        'burger': 80,\n",
    "        'pasta': 50,\n",
    "        'coffee': 30,\n",
    "        'tea': 10\n",
    "}"
   ]
  },
  {
   "cell_type": "code",
   "execution_count": 87,
   "id": "fce99f77-9782-448f-aeb8-37aa2e01801c",
   "metadata": {},
   "outputs": [
    {
     "name": "stdout",
     "output_type": "stream",
     "text": [
      "Welcome to Usman Plaza...💐💐💐\n",
      "..........एक बार खावो बार बार आवो\n",
      "\n",
      "Please order somthing delicious from the Menu...\n",
      "\n",
      "Pizza  🍕 :  Rs 150\n",
      "Burger 🍔 :  Rs 80\n",
      "Pasta  🥧 :  Rs 50\n",
      "Coffee ☕ :  Rs 30\n",
      "Tea    🍵 :  Rs 10\n"
     ]
    },
    {
     "name": "stdin",
     "output_type": "stream",
     "text": [
      "\n",
      "What you want to order: nothing\n"
     ]
    },
    {
     "name": "stdout",
     "output_type": "stream",
     "text": [
      "nothing is not available right now.\n",
      "\n",
      "Please order somthing else...\n",
      "\n",
      "Here is the menu...\n",
      "\n",
      "Pizza  🍕 :  Rs 150\n",
      "Burger 🍔 :  Rs 80\n",
      "Pasta  🥧 :  Rs 50\n",
      "Coffee ☕ :  Rs 30\n",
      "Tea    🍵 :  Rs 10\n"
     ]
    },
    {
     "name": "stdin",
     "output_type": "stream",
     "text": [
      "Do you want to add another item? [Yes/no]:- no\n"
     ]
    },
    {
     "name": "stdout",
     "output_type": "stream",
     "text": [
      "\n",
      "Thank you for visiting our caffe.\n",
      "Have a nice day🌹.\n"
     ]
    }
   ],
   "source": [
    "print('Welcome to Usman Plaza...💐💐💐\\n..........एक बार खावो बार बार आवो')  \n",
    "print('')\n",
    "print('Please order somthing delicious from the Menu...')\n",
    "print('')\n",
    "print(\"Pizza  🍕 :  Rs 150\\nBurger 🍔 :  Rs 80\\nPasta  🥧 :  Rs 50\\nCoffee ☕ :  Rs 30\\nTea    🍵 :  Rs 10\")\n",
    "\n",
    "order_total = 0\n",
    "\n",
    "item_1 = input(\"\\nWhat you want to order:\")\n",
    "if item_1 in menu:\n",
    "    order_total += menu[item_1]\n",
    "    print(f'{item_1} ordered successfully ✅')\n",
    "    print('')\n",
    "\n",
    "else:\n",
    "    print(f'{item_1} is not available right now.\\n\\nPlease order somthing else...')\n",
    "    print('')\n",
    "    print('Here is the menu...')\n",
    "    print('')\n",
    "    print(\"Pizza  🍕 :  Rs 150\\nBurger 🍔 :  Rs 80\\nPasta  🥧 :  Rs 50\\nCoffee ☕ :  Rs 30\\nTea    🍵 :  Rs 10\")\n",
    "\n",
    "\n",
    "another_order = input(\"Do you want to add another item? [Yes/no]:-\")\n",
    "if another_order == 'yes':\n",
    "    item_2 = input(\"Enter the name of the 2nd item:\")\n",
    "    \n",
    "    if item_2 in menu:\n",
    "        order_total+= menu[item_2]\n",
    "        print(f'\\n{item_2} ordered successfully ✅')\n",
    "    else:\n",
    "        print(f\"\\n{item_2} is not available right now!\")\n",
    "    print(f\"\\nYour bill amount is- Rs {order_total}.\")\n",
    "print(\"\\nThank you for visiting our caffe.\\nHave a nice day🌹.\")  "
   ]
  },
  {
   "cell_type": "code",
   "execution_count": null,
   "id": "6a7b5263-d9b6-4b59-99d1-def8cdd9595d",
   "metadata": {},
   "outputs": [],
   "source": []
  },
  {
   "cell_type": "code",
   "execution_count": null,
   "id": "fa3a53c1-057a-4776-bf07-34061dcb51b7",
   "metadata": {},
   "outputs": [],
   "source": []
  }
 ],
 "metadata": {
  "kernelspec": {
   "display_name": "Python 3 (ipykernel)",
   "language": "python",
   "name": "python3"
  },
  "language_info": {
   "codemirror_mode": {
    "name": "ipython",
    "version": 3
   },
   "file_extension": ".py",
   "mimetype": "text/x-python",
   "name": "python",
   "nbconvert_exporter": "python",
   "pygments_lexer": "ipython3",
   "version": "3.11.7"
  },
  "widgets": {
   "application/vnd.jupyter.widget-state+json": {
    "state": {},
    "version_major": 2,
    "version_minor": 0
   }
  }
 },
 "nbformat": 4,
 "nbformat_minor": 5
}
